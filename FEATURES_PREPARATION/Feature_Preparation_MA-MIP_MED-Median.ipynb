{
 "cells": [
  {
   "cell_type": "code",
   "execution_count": null,
   "metadata": {},
   "outputs": [],
   "source": [
    "import os\n",
    "import numpy as np\n",
    "import pandas as pd\n",
    "import matplotlib.pyplot as plt\n",
    "from sklearn.preprocessing import LabelEncoder, OneHotEncoder\n",
    "import warnings\n",
    "warnings.filterwarnings(\"ignore\")\n",
    "from sklearn.model_selection import train_test_split\n",
    "from sklearn.svm import SVC\n",
    "from sklearn.metrics import confusion_matrix\n",
    "\n",
    "np.random.seed(123)"
   ]
  },
  {
   "cell_type": "code",
   "execution_count": null,
   "metadata": {},
   "outputs": [],
   "source": [
    "# NETWORK = 'InceptionResNetV2'\n",
    "# NETWORK = 'InceptionV3'\n",
    "# NETWORK = 'Resnet'\n",
    "# NETWORK = 'VGG16'\n",
    "# NETWORK = 'VGG19'\n",
    "# NETWORK = 'Xception'\n",
    "# NETWORK = 'DenseNet201'\n",
    "# NETWORK = 'EfficientNetB1'\n",
    "# NETWORK = 'EfficientNetB4'\n",
    "# NETWORK = 'EfficientNetB7'\n",
    "NETWORK = 'NASNetLarge'\n",
    "# NETWORK = 'ConvNeXtBase'\n",
    "\n",
    "METHOD = \"MED-Median\""
   ]
  },
  {
   "cell_type": "code",
   "execution_count": null,
   "metadata": {},
   "outputs": [],
   "source": [
    "WORKING_DIRECTORY = '/datassd/WHOLEIMAGE_MAMIP'\n",
    "PET_features_filename = f\"Features_{NETWORK}_MA-MIP_WHOLE-IMAGE.csv\"\n",
    "\n",
    "features_path = os.path.join(WORKING_DIRECTORY, f\"EXTRACTED_FEATURES/ExtractedFeatures_{METHOD}\")\n",
    "processed_features_path = os.path.join(WORKING_DIRECTORY, f\"PROCESSED_FEATURES/ProcessedFeatures_{METHOD}\")\n",
    "if not os.path.exists(processed_features_path):\n",
    "    os.makedirs(processed_features_path)\n",
    "\n",
    "\n",
    "processed_features_filename = f\"Processed_Features_{NETWORK}_MA-MIP_WHOLE-IMAGE.csv\"\n",
    "processed_features_full_filename = os.path.join(processed_features_path, processed_features_filename)\n",
    "\n",
    "PET_featurs_full_path = os.path.join(features_path, PET_features_filename)\n",
    "\n",
    "PET_filename = PET_features_filename.split(\".\")[0]\n",
    "\n",
    "PET_outcome_data = pd.read_csv(PET_featurs_full_path)\n",
    "\n",
    "outcome_file = \"/datassd/WHOLEIMAGE_MAMIP/hecktor2022_patient_endpoint_training.csv\""
   ]
  },
  {
   "cell_type": "code",
   "execution_count": null,
   "metadata": {},
   "outputs": [],
   "source": [
    "PET_outcome_data.head()"
   ]
  },
  {
   "attachments": {},
   "cell_type": "markdown",
   "metadata": {},
   "source": [
    "# Up to here"
   ]
  },
  {
   "attachments": {},
   "cell_type": "markdown",
   "metadata": {},
   "source": [
    "Read Outcome csv"
   ]
  },
  {
   "cell_type": "code",
   "execution_count": null,
   "metadata": {},
   "outputs": [],
   "source": [
    "OD = pd.read_csv(outcome_file)\n",
    "OD = OD.iloc[:,:]\n",
    "OD.head()"
   ]
  },
  {
   "cell_type": "code",
   "execution_count": null,
   "metadata": {},
   "outputs": [],
   "source": [
    "OD = OD.rename(columns={'PatientID': 'Patient_ID'})\n",
    "OD.head()"
   ]
  },
  {
   "cell_type": "code",
   "execution_count": null,
   "metadata": {},
   "outputs": [],
   "source": [
    "OD.columns[0]"
   ]
  },
  {
   "cell_type": "code",
   "execution_count": null,
   "metadata": {},
   "outputs": [],
   "source": [
    "first_column = PET_outcome_data.columns[0]\n",
    "PET_outcome_data = PET_outcome_data.rename(columns={first_column: 'Patient_ID'})"
   ]
  },
  {
   "cell_type": "code",
   "execution_count": null,
   "metadata": {},
   "outputs": [],
   "source": [
    "OD.columns[0]\n"
   ]
  },
  {
   "cell_type": "code",
   "execution_count": null,
   "metadata": {},
   "outputs": [],
   "source": [
    "PET_outcome_data.columns[0]"
   ]
  },
  {
   "cell_type": "code",
   "execution_count": null,
   "metadata": {},
   "outputs": [],
   "source": [
    "PET_outcome_data.head()"
   ]
  },
  {
   "cell_type": "code",
   "execution_count": null,
   "metadata": {},
   "outputs": [],
   "source": [
    "# ranges_list = list()\n",
    "# for col in PET_outcome_data.iloc[:, 1:]:\n",
    "#     col_range = PET_outcome_data[col].max() - PET_outcome_data[col].min()\n",
    "#     ranges_list.append(col_range)\n",
    "#     print(f\"Range of column {col}: {col_range}\")\n",
    "# print(f\"maximum range: {max(ranges_list)}\")"
   ]
  },
  {
   "cell_type": "code",
   "execution_count": null,
   "metadata": {},
   "outputs": [],
   "source": [
    "full_features_df = pd.merge(PET_outcome_data, OD, on=OD.columns[0])"
   ]
  },
  {
   "cell_type": "code",
   "execution_count": null,
   "metadata": {},
   "outputs": [],
   "source": [
    "full_features_df.head()"
   ]
  },
  {
   "cell_type": "code",
   "execution_count": null,
   "metadata": {},
   "outputs": [],
   "source": [
    "full_features_df.to_csv(processed_features_full_filename, encoding='utf-8', index=False)"
   ]
  }
 ],
 "metadata": {
  "kernelspec": {
   "display_name": "OP",
   "language": "python",
   "name": "python3"
  },
  "language_info": {
   "codemirror_mode": {
    "name": "ipython",
    "version": 3
   },
   "file_extension": ".py",
   "mimetype": "text/x-python",
   "name": "python",
   "nbconvert_exporter": "python",
   "pygments_lexer": "ipython3",
   "version": "3.8.13"
  },
  "orig_nbformat": 4,
  "vscode": {
   "interpreter": {
    "hash": "b5af22b15e8cea8d8f7e91a683eb5b3ffc40137cc2e81e9551986b51688e2925"
   }
  }
 },
 "nbformat": 4,
 "nbformat_minor": 2
}
